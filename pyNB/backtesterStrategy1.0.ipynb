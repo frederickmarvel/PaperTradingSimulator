{
 "cells": [
  {
   "cell_type": "code",
   "execution_count": 1,
   "metadata": {},
   "outputs": [],
   "source": [
    "import pandas as pd\n",
    "import numpy as np\n",
    "import requests\n",
    "import sqlite3"
   ]
  },
  {
   "cell_type": "code",
   "execution_count": 20,
   "metadata": {},
   "outputs": [],
   "source": [
    "def insertValue(timestamp, usdtBalance,btcBalance,btcValue,assetValue):\n",
    "    conn = sqlite3.connect('BackTest.db')\n",
    "    c = conn.cursor()   \n",
    "    c.execute('''\n",
    "    INSERT INTO trend_data (timestamp, usdtBalance, btcBalance,btcValue,assetValue) VALUES (?, ?, ?,?,?)\n",
    "    ''', (timestamp, usdtBalance, btcBalance, btcValue, assetValue))\n",
    "    conn.commit()\n",
    "    conn.close()\n",
    "\n",
    "def getValue(timestamp):\n",
    "    conn = sqlite3.connect('BackTest.db')\n",
    "    c = conn.cursor()\n",
    "    c.execute('SELECT * FROM trend_data WHERE timestamp = ?', (timestamp,))\n",
    "    row = c.fetchone()\n",
    "    conn.close()\n",
    "    if row:\n",
    "        return row\n",
    "    else:\n",
    "        return (timestamp, 0, 0)  # Example default values; adjust as necessary\n",
    "\n",
    "def getBalanceAsset(timestamp):\n",
    "    conn = sqlite3.connect('BackTest.db')\n",
    "    c = conn.cursor()\n",
    "    c.execute('SELECT * FROM balanceAsset WHERE timestamp = ?', (timestamp,))\n",
    "    row = c.fetchone()\n",
    "    conn.close()\n",
    "    return row"
   ]
  },
  {
   "cell_type": "code",
   "execution_count": 17,
   "metadata": {},
   "outputs": [
    {
     "name": "stdout",
     "output_type": "stream",
     "text": [
      "(1514840400, 50000, 3.71863609352816, 50000, 100000)\n"
     ]
    }
   ],
   "source": [
    "print(getBalanceAsset(1514840400))"
   ]
  },
  {
   "cell_type": "code",
   "execution_count": 6,
   "metadata": {},
   "outputs": [],
   "source": [
    "currentTimestamp = 1514926800\n",
    "usdtBalance = 100000 #initial balance\n",
    "btcBalance = 0\n",
    "assetValue = 0"
   ]
  },
  {
   "cell_type": "code",
   "execution_count": 21,
   "metadata": {},
   "outputs": [],
   "source": [
    "def currentTrend(timestamp):\n",
    "    request = getValue(timestamp)\n",
    "    return request[2]\n",
    "\n",
    "def btcPrice(timestamp):\n",
    "    request = getValue(timestamp)\n",
    "    return requests[1]\n",
    "\n",
    "\n",
    "def rebalancePortfolio(target_btc_ratio, timestamp, usdtBalance, btcBalance):\n",
    "    value = getValue(timestamp)\n",
    "    if value is None or len(value) < 3:\n",
    "        print(f\"No data available for timestamp {timestamp}. Skipping.\")\n",
    "        return  # Skip this timestamp\n",
    "\n",
    "    current_btc_price = value[1]\n",
    "    total_value = usdtBalance + (int(btcBalance) * int(current_btc_price))  \n",
    "\n",
    "    target_btc_value = total_value * target_btc_ratio\n",
    "    target_usdt_value = total_value * (1 - target_btc_ratio)\n",
    "\n",
    "    if target_btc_value > (btcBalance * current_btc_price):\n",
    "        print(f\"Buy BTC: {(target_btc_value - (btcBalance * current_btc_price)) / current_btc_price:.2f} units\")\n",
    "    elif target_btc_value < (btcBalance * current_btc_price):\n",
    "        print(f\"Sell BTC: {((btcBalance * current_btc_price) - target_btc_value) / current_btc_price:.2f} units\")  # Corrected braces\n",
    "\n",
    "    if target_usdt_value > usdtBalance:\n",
    "        print(f\"Sell BTC to get USDT: {(target_usdt_value - usdtBalance) / current_btc_price:.2f} units\")\n",
    "    elif target_usdt_value < usdtBalance:\n",
    "        print(f\"Buy USDT: {target_usdt_value - usdtBalance:.2f} units\")\n",
    "    btcBalance = target_btc_value / current_btc_price\n",
    "    usdtBalance = target_usdt_value\n",
    "    btcValue = btcBalance *current_btc_price\n",
    "    finalValue = usdtBalance + btcValue\n",
    "    conn = sqlite3.connect('BackTest.db')\n",
    "    c = conn.cursor()\n",
    "    c.execute('''\n",
    "        INSERT INTO balanceAsset (timestamp, usdtBalance, btcBalance, btcValue, assetValue)\n",
    "        VALUES (?, ?, ?, ?, ?)\n",
    "        ''', (timestamp, usdtBalance, btcBalance, btcValue, finalValue))\n",
    "    conn.commit()\n",
    "    conn.close()\n",
    "\n",
    "\n",
    "\n",
    "# rebalancePortfolio(0.5,1514926800,50000,3.7186)"
   ]
  },
  {
   "cell_type": "code",
   "execution_count": 22,
   "metadata": {},
   "outputs": [
    {
     "name": "stdout",
     "output_type": "stream",
     "text": [
      "Sell BTC: 0.53 units\n",
      "Buy USDT: -2740.00 units\n"
     ]
    },
    {
     "ename": "IntegrityError",
     "evalue": "UNIQUE constraint failed: balanceAsset.timestamp",
     "output_type": "error",
     "traceback": [
      "\u001b[0;31m---------------------------------------------------------------------------\u001b[0m",
      "\u001b[0;31mIntegrityError\u001b[0m                            Traceback (most recent call last)",
      "Cell \u001b[0;32mIn[22], line 21\u001b[0m\n\u001b[1;32m     18\u001b[0m         \u001b[38;5;28;01melif\u001b[39;00m xbx_trend \u001b[38;5;241m==\u001b[39m \u001b[38;5;241m-\u001b[39m\u001b[38;5;241m1\u001b[39m:\n\u001b[1;32m     19\u001b[0m             rebalancePortfolio(\u001b[38;5;241m0\u001b[39m, i, usdt_bal, btc_bal)  \u001b[38;5;66;03m# Go 100% USDT, effectively selling all BTC\u001b[39;00m\n\u001b[0;32m---> 21\u001b[0m \u001b[43mmain\u001b[49m\u001b[43m(\u001b[49m\u001b[43m)\u001b[49m\n",
      "Cell \u001b[0;32mIn[22], line 15\u001b[0m, in \u001b[0;36mmain\u001b[0;34m()\u001b[0m\n\u001b[1;32m     13\u001b[0m \u001b[38;5;66;03m# Now rebalance based on the trend\u001b[39;00m\n\u001b[1;32m     14\u001b[0m \u001b[38;5;28;01mif\u001b[39;00m xbx_trend \u001b[38;5;129;01min\u001b[39;00m [\u001b[38;5;241m0\u001b[39m, \u001b[38;5;241m-\u001b[39m\u001b[38;5;241m0.5\u001b[39m, \u001b[38;5;241m0.5\u001b[39m]:\n\u001b[0;32m---> 15\u001b[0m     \u001b[43mrebalancePortfolio\u001b[49m\u001b[43m(\u001b[49m\u001b[38;5;241;43m0.5\u001b[39;49m\u001b[43m,\u001b[49m\u001b[43m \u001b[49m\u001b[43mi\u001b[49m\u001b[43m,\u001b[49m\u001b[43m \u001b[49m\u001b[43musdt_bal\u001b[49m\u001b[43m,\u001b[49m\u001b[43m \u001b[49m\u001b[43mbtc_bal\u001b[49m\u001b[43m)\u001b[49m  \u001b[38;5;66;03m# Maintain 50% BTC, 50% USDT\u001b[39;00m\n\u001b[1;32m     16\u001b[0m \u001b[38;5;28;01melif\u001b[39;00m xbx_trend \u001b[38;5;241m==\u001b[39m \u001b[38;5;241m1\u001b[39m:\n\u001b[1;32m     17\u001b[0m     rebalancePortfolio(\u001b[38;5;241m1.0\u001b[39m, i, usdt_bal, btc_bal)  \u001b[38;5;66;03m# Go 100% BTC\u001b[39;00m\n",
      "Cell \u001b[0;32mIn[21], line 37\u001b[0m, in \u001b[0;36mrebalancePortfolio\u001b[0;34m(target_btc_ratio, timestamp, usdtBalance, btcBalance)\u001b[0m\n\u001b[1;32m     35\u001b[0m conn \u001b[38;5;241m=\u001b[39m sqlite3\u001b[38;5;241m.\u001b[39mconnect(\u001b[38;5;124m'\u001b[39m\u001b[38;5;124mBackTest.db\u001b[39m\u001b[38;5;124m'\u001b[39m)\n\u001b[1;32m     36\u001b[0m c \u001b[38;5;241m=\u001b[39m conn\u001b[38;5;241m.\u001b[39mcursor()\n\u001b[0;32m---> 37\u001b[0m \u001b[43mc\u001b[49m\u001b[38;5;241;43m.\u001b[39;49m\u001b[43mexecute\u001b[49m\u001b[43m(\u001b[49m\u001b[38;5;124;43m'''\u001b[39;49m\n\u001b[1;32m     38\u001b[0m \u001b[38;5;124;43m    INSERT INTO balanceAsset (timestamp, usdtBalance, btcBalance, btcValue, assetValue)\u001b[39;49m\n\u001b[1;32m     39\u001b[0m \u001b[38;5;124;43m    VALUES (?, ?, ?, ?, ?)\u001b[39;49m\n\u001b[1;32m     40\u001b[0m \u001b[38;5;124;43m    \u001b[39;49m\u001b[38;5;124;43m'''\u001b[39;49m\u001b[43m,\u001b[49m\u001b[43m \u001b[49m\u001b[43m(\u001b[49m\u001b[43mtimestamp\u001b[49m\u001b[43m,\u001b[49m\u001b[43m \u001b[49m\u001b[43musdtBalance\u001b[49m\u001b[43m,\u001b[49m\u001b[43m \u001b[49m\u001b[43mbtcBalance\u001b[49m\u001b[43m,\u001b[49m\u001b[43m \u001b[49m\u001b[43mbtcValue\u001b[49m\u001b[43m,\u001b[49m\u001b[43m \u001b[49m\u001b[43mfinalValue\u001b[49m\u001b[43m)\u001b[49m\u001b[43m)\u001b[49m\n\u001b[1;32m     41\u001b[0m conn\u001b[38;5;241m.\u001b[39mcommit()\n\u001b[1;32m     42\u001b[0m conn\u001b[38;5;241m.\u001b[39mclose()\n",
      "\u001b[0;31mIntegrityError\u001b[0m: UNIQUE constraint failed: balanceAsset.timestamp"
     ]
    }
   ],
   "source": [
    "def main():\n",
    "    currentTimestamp = 1514926800\n",
    "    maxTimestamp = 1711656000\n",
    "    \n",
    "    for i in range(currentTimestamp, maxTimestamp + 1, 86400):\n",
    "        xbx_trend = currentTrend(i)  # Fetch the current trend for each day\n",
    "        \n",
    "        # Assuming getBalanceAsset correctly fetches the previous day's balance,\n",
    "        # and rebalancePortfolio has been adjusted to handle 'None' values gracefully\n",
    "        btc_bal = getBalanceAsset(i-86400)[2] if getBalanceAsset(i-86400) else 0\n",
    "        usdt_bal = getBalanceAsset(i-86400)[1] if getBalanceAsset(i-86400) else 0\n",
    "        \n",
    "        # Now rebalance based on the trend\n",
    "        if xbx_trend in [0, -0.5, 0.5]:\n",
    "            rebalancePortfolio(0.5, i, usdt_bal, btc_bal)  # Maintain 50% BTC, 50% USDT\n",
    "        elif xbx_trend == 1:\n",
    "            rebalancePortfolio(1.0, i, usdt_bal, btc_bal)  # Go 100% BTC\n",
    "        elif xbx_trend == -1:\n",
    "            rebalancePortfolio(0, i, usdt_bal, btc_bal)  # Go 100% USDT, effectively selling all BTC\n",
    "\n",
    "main()"
   ]
  },
  {
   "cell_type": "code",
   "execution_count": 15,
   "metadata": {},
   "outputs": [
    {
     "ename": "TypeError",
     "evalue": "rebalancePortfolio() missing 3 required positional arguments: 'timestamp', 'usdtBalance', and 'btcBalance'",
     "output_type": "error",
     "traceback": [
      "\u001b[0;31m---------------------------------------------------------------------------\u001b[0m",
      "\u001b[0;31mTypeError\u001b[0m                                 Traceback (most recent call last)",
      "Cell \u001b[0;32mIn[15], line 21\u001b[0m\n\u001b[1;32m     17\u001b[0m     \u001b[38;5;28;01melif\u001b[39;00m xbx_trend \u001b[38;5;241m==\u001b[39m \u001b[38;5;241m-\u001b[39m\u001b[38;5;241m1\u001b[39m:\n\u001b[1;32m     18\u001b[0m         rebalancePortfolio(\u001b[38;5;241m-\u001b[39m\u001b[38;5;241m1.0\u001b[39m)  \u001b[38;5;66;03m# Sell all USDT and rebalance\u001b[39;00m\n\u001b[0;32m---> 21\u001b[0m \u001b[43mmain\u001b[49m\u001b[43m(\u001b[49m\u001b[43m)\u001b[49m\n",
      "Cell \u001b[0;32mIn[15], line 14\u001b[0m, in \u001b[0;36mmain\u001b[0;34m()\u001b[0m\n\u001b[1;32m     11\u001b[0m xbx_trend \u001b[38;5;241m=\u001b[39m currentTrend(currentTimestamp)\n\u001b[1;32m     13\u001b[0m \u001b[38;5;28;01mif\u001b[39;00m (xbx_trend \u001b[38;5;241m==\u001b[39m \u001b[38;5;241m0\u001b[39m \u001b[38;5;129;01mor\u001b[39;00m xbx_trend \u001b[38;5;241m==\u001b[39m \u001b[38;5;241m-\u001b[39m\u001b[38;5;241m0.5\u001b[39m \u001b[38;5;129;01mor\u001b[39;00m xbx_trend \u001b[38;5;241m==\u001b[39m \u001b[38;5;241m0.5\u001b[39m):\n\u001b[0;32m---> 14\u001b[0m     \u001b[43mrebalancePortfolio\u001b[49m\u001b[43m(\u001b[49m\u001b[38;5;241;43m0.5\u001b[39;49m\u001b[43m)\u001b[49m  \u001b[38;5;66;03m# Maintain 50% BTC, 50% USDT\u001b[39;00m\n\u001b[1;32m     15\u001b[0m \u001b[38;5;28;01melif\u001b[39;00m xbx_trend \u001b[38;5;241m==\u001b[39m \u001b[38;5;241m1\u001b[39m:\n\u001b[1;32m     16\u001b[0m     rebalancePortfolio(\u001b[38;5;241m1.0\u001b[39m)  \u001b[38;5;66;03m# Go 100% BTC (buy if needed)\u001b[39;00m\n",
      "\u001b[0;31mTypeError\u001b[0m: rebalancePortfolio() missing 3 required positional arguments: 'timestamp', 'usdtBalance', and 'btcBalance'"
     ]
    }
   ],
   "source": [
    "def main():\n",
    "    global currentTimestamp\n",
    "    maxTimestamp = 1711656000\n",
    "    xbx_trend = currentTrend(currentTimestamp)\n",
    "    btc_price = btcPrice(currentTimestamp)\n",
    "    btcValue = btc_price * btcBalance\n",
    "\n",
    "    xbx_trend = currentTrend(currentTimestamp)\n",
    "\n",
    "    if (xbx_trend == 0 or xbx_trend == -0.5 or xbx_trend == 0.5):\n",
    "        rebalancePortfolio(0.5)  # Maintain 50% BTC, 50% USDT\n",
    "    elif xbx_trend == 1:\n",
    "        rebalancePortfolio(1.0)  # Go 100% BTC (buy if needed)\n",
    "    elif xbx_trend == -1:\n",
    "        rebalancePortfolio(-1.0)  # Sell all USDT and rebalance\n",
    "\n",
    "\n",
    "main()"
   ]
  },
  {
   "cell_type": "code",
   "execution_count": 24,
   "metadata": {},
   "outputs": [
    {
     "ename": "NameError",
     "evalue": "name 'c' is not defined",
     "output_type": "error",
     "traceback": [
      "\u001b[0;31m---------------------------------------------------------------------------\u001b[0m",
      "\u001b[0;31mNameError\u001b[0m                                 Traceback (most recent call last)",
      "Cell \u001b[0;32mIn[24], line 1\u001b[0m\n\u001b[0;32m----> 1\u001b[0m \u001b[43mc\u001b[49m\u001b[38;5;241m.\u001b[39mclose()\n",
      "\u001b[0;31mNameError\u001b[0m: name 'c' is not defined"
     ]
    }
   ],
   "source": [
    "c.close()"
   ]
  },
  {
   "cell_type": "code",
   "execution_count": null,
   "metadata": {},
   "outputs": [],
   "source": [
    "# Update the database\n",
    "    with create_connection() as conn:\n",
    "        if conn:\n",
    "            try:\n",
    "                with conn.cursor() as cursor:\n",
    "                    cursor.execute('''\n",
    "                        INSERT INTO balanceAsset (timestamp, usdtBalance, bitcoinBalance, bitcoinValue, assetValue)\n",
    "                        VALUES (%s, %s, %s, %s, %s)\n",
    "                        ''', (timestamp, usdtBalance, btcBalance, btcValue, finalValue))\n",
    "                    conn.commit()\n",
    "            except err.MySQLError as e:\n",
    "                logger.error(f\"Failed to insert rebalanced portfolio data: {e}\")"
   ]
  }
 ],
 "metadata": {
  "kernelspec": {
   "display_name": "Python 3",
   "language": "python",
   "name": "python3"
  },
  "language_info": {
   "codemirror_mode": {
    "name": "ipython",
    "version": 3
   },
   "file_extension": ".py",
   "mimetype": "text/x-python",
   "name": "python",
   "nbconvert_exporter": "python",
   "pygments_lexer": "ipython3",
   "version": "3.8.10"
  }
 },
 "nbformat": 4,
 "nbformat_minor": 2
}
