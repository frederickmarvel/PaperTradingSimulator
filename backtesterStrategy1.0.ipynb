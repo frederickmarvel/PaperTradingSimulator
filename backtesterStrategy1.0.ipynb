{
 "cells": [
  {
   "cell_type": "code",
   "execution_count": 1,
   "metadata": {},
   "outputs": [],
   "source": [
    "import pandas as pd\n",
    "import numpy as np\n",
    "import requests\n",
    "import sqlite3"
   ]
  },
  {
   "cell_type": "code",
   "execution_count": 10,
   "metadata": {},
   "outputs": [],
   "source": [
    "def insertValue(timestamp, usdtBalance,btcBalance,btcValue,assetValue):\n",
    "    conn = sqlite3.connect('BackTest.db')\n",
    "    c = conn.cursor()   \n",
    "    c.execute('''\n",
    "    INSERT INTO trend_data (timestamp, usdtBalance, btcBalance,btcValue,assetValue) VALUES (?, ?, ?,?,?)\n",
    "    ''', (timestamp, usdtBalance, btcBalance, btcValue, assetValue))\n",
    "    conn.commit()\n",
    "    conn.close()\n",
    "\n",
    "def getValue(timestamp):\n",
    "    conn = sqlite3.connect('BackTest.db')\n",
    "    c = conn.cursor()\n",
    "    c.execute('SELECT * FROM trend_data WHERE timestamp = ?', (timestamp,))\n",
    "    row = c.fetchone()\n",
    "    conn.close()\n",
    "    return row\n"
   ]
  },
  {
   "cell_type": "code",
   "execution_count": 11,
   "metadata": {},
   "outputs": [
    {
     "name": "stdout",
     "output_type": "stream",
     "text": [
      "(1514840400, 13445.79, 0)\n"
     ]
    }
   ],
   "source": [
    "print(getValue(1514840400))"
   ]
  },
  {
   "cell_type": "code",
   "execution_count": null,
   "metadata": {},
   "outputs": [],
   "source": [
    "startTimestamp = 1514840400\n"
   ]
  }
 ],
 "metadata": {
  "kernelspec": {
   "display_name": "Python 3",
   "language": "python",
   "name": "python3"
  },
  "language_info": {
   "codemirror_mode": {
    "name": "ipython",
    "version": 3
   },
   "file_extension": ".py",
   "mimetype": "text/x-python",
   "name": "python",
   "nbconvert_exporter": "python",
   "pygments_lexer": "ipython3",
   "version": "3.8.10"
  }
 },
 "nbformat": 4,
 "nbformat_minor": 2
}
